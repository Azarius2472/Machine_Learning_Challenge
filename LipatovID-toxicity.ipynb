{
 "metadata": {
  "kernelspec": {
   "display_name": "Python 3.8.3 64-bit ('venv': venv)",
   "name": "python38364bitvenvvenv8db02f35f248479fb600b6af19efe217"
  },
  "language_info": {
   "codemirror_mode": {
    "name": "ipython",
    "version": 3
   },
   "file_extension": ".py",
   "mimetype": "text/x-python",
   "name": "python",
   "nbconvert_exporter": "python",
   "pygments_lexer": "ipython3",
   "version": "3.8.3-final"
  },
  "name": ""
 },
 "nbformat": 3,
 "nbformat_minor": 0,
 "worksheets": [
  {
   "cells": [
    {
     "cell_type": "code",
     "collapsed": false,
     "input": [
      "# Igor Lipatov\n",
      "# osh1308@gmail.com\n",
      "# competition:\n",
      "# https://www.kaggle.com/c/jigsaw-unintended-bias-in-toxicity-classification\n",
      "# my configuration:\n",
      "# CPU: Intel Xeon e5 1650V1\n",
      "# RAM: 16Gb\n",
      "# scikit-learn     0.22.1\n",
      "# daal4py          2020.1\n",
      "# docker image intelpython/intelpython3_full"
     ],
     "language": "python",
     "metadata": {},
     "outputs": [],
     "prompt_number": 1
    },
    {
     "cell_type": "code",
     "collapsed": false,
     "input": [
      "import pandas as pd\n",
      "from sklearn.model_selection import train_test_split\n",
      "from sklearn.feature_extraction.text import CountVectorizer\n",
      "import time\n",
      "import numpy as np"
     ],
     "language": "python",
     "metadata": {},
     "outputs": [],
     "prompt_number": 2
    },
    {
     "cell_type": "code",
     "collapsed": false,
     "input": [
      "#\u0412 \u0434\u0430\u043d\u043d\u043e\u043c \u0441\u043e\u0440\u0435\u0432\u043d\u043e\u0432\u0430\u043d\u0438\u0438 \u043d\u0435\u043e\u0431\u0445\u043e\u0434\u0438\u043c\u043e \u043f\u043e\u0441\u0442\u0440\u043e\u0438\u0442\u044c \u043c\u043e\u0434\u0435\u043b\u044c \u0434\u043b\u044f \u043e\u0446\u0435\u043d\u043a\u0438 \u0442\u043e\u043a\u0441\u0438\u0447\u043d\u043e\u0441\u0442\u0438 \u043a\u043e\u043c\u043c\u0435\u043d\u0442\u0430\u0440\u0438\u044f.\n",
      "#\u042d\u0442\u043e \u043c\u043e\u0436\u043d\u043e \u0441\u0434\u0435\u043b\u0430\u0442\u044c \u043b\u0438\u0431\u043e \u0447\u0435\u0440\u0435\u0437 \u043e\u0441\u043d\u043e\u0432\u043d\u0443\u044e \u043c\u0435\u0442\u043a\u0443 target \u2208[0,1],\u043b\u0438\u0431\u043e \u0447\u0435\u0440\u0435\u0437 \u0432\u0441\u043f\u043e\u043c\u043e\u0433\u0430\u0442\u0435\u043b\u044c\u043d\u044b\u0435 identety_attack,insult \u0438 \u0442.\u0434.\n",
      "#\u042f \u0431\u0443\u0434\u0443 \u0438\u0441\u043f\u043e\u043b\u044c\u0437\u043e\u0432\u0430\u0442\u044c \u0442\u043e\u043b\u044c\u043a\u043e \u043e\u0441\u043d\u043e\u0432\u043d\u0443\u044e \u043c\u0435\u0442\u043a\u0443 target.\n",
      "\n",
      "#\u0427\u0438\u0442\u0430\u0435\u043c \u0434\u0430\u043d\u043d\u044b\u0435 \u043f\u0440\u0438 \u043f\u043e\u043c\u043e\u0449\u0438 pandas \u0432 dataframe.\n",
      "data = pd.read_csv('./data/train.csv')\n",
      "data.head()\n",
      "data.hist(bins=10,column='target')"
     ],
     "language": "python",
     "metadata": {
      "tags": []
     },
     "outputs": [
      {
       "output_type": "pyout",
       "prompt_number": 3,
       "text": [
        "array([[<matplotlib.axes._subplots.AxesSubplot object at 0x7f09d00af050>]],\n",
        "      dtype=object)"
       ]
      },
      {
       "output_type": "display_data",
       "png": "[encoded data removed]",
       "text": [
        "<Figure size 432x288 with 1 Axes>"
       ]
      }
     ],
     "prompt_number": 3
    },
    {
     "cell_type": "code",
     "collapsed": false,
     "input": [
      "#\u0414\u0430\u0442\u0430\u0441\u0435\u0442 \u0441\u043b\u0438\u0448\u043a\u043e\u043c \u043d\u0435\u0441\u0431\u0430\u043b\u0430\u043d\u0441\u0438\u0440\u043e\u0432\u0430\u043d,\u043e\u0447\u0435\u043d\u044c \u043c\u043d\u043e\u0433\u043e \u043a\u043e\u043c\u043c\u0435\u043d\u0442\u0430\u0440\u0438\u0435\u0432 \u0441 \u043c\u0435\u0442\u043a\u043e\u0439 <= 0.1.\n",
      "#\u0421\u043e\u043a\u0440\u0430\u0442\u0438\u043c \u0447\u0438\u0441\u043b\u043e \u0442\u0430\u043a\u0438\u0445 \u043a\u043e\u043c\u043c\u0435\u043d\u0442\u0430\u0440\u0438\u0435\u0432.\n",
      "#\u0412\u044b\u0434\u0435\u043b\u0438\u043c \u043a\u043e\u043c\u043c\u0435\u043d\u0442\u0430\u0440\u0438\u0438 \u0441 \u043c\u0435\u0442\u043a\u043e\u0439 <= 0.1.\n",
      "zeros = data[data.target <= 0.1]\n",
      "#\u0412\u044b\u0434\u0435\u043b\u0438\u043c \u0432\u0441\u0435 \u043e\u0441\u0442\u0430\u043b\u044c\u043d\u044b\u0435 \u043a\u043e\u043c\u043c\u0435\u043d\u0442\u0430\u0440\u0438\u0438.\n",
      "nonzeros = data[data.target > 0.1]\n",
      "#\u0418\u0437\u0432\u043b\u0435\u0447\u0435\u043c \u043f\u043e\u0434\u0432\u044b\u0431\u043e\u0440\u043a\u0443 \u0438\u0437 \u043a\u043e\u043c\u043c\u0435\u043d\u0442\u0430\u0440\u0438\u0435\u0432 \u0441 \u043d\u0438\u0437\u043a\u0438\u043c \u0437\u043d\u0430\u0447\u0435\u043d\u0438\u0435\u043c \u043c\u0435\u0442\u043a\u0438.\n",
      "zeros = zeros.sample(n=120000, random_state=42)\n",
      "#\u0418 \u0441\u043e\u0431\u0435\u0440\u0435\u043c \u043d\u0430\u0448 dataframe \u043e\u0431\u0440\u0430\u0442\u043d\u043e.\n",
      "data = pd.concat([zeros,nonzeros])\n",
      "zeros = None\n",
      "nonzeros = None\n",
      "#\u0414\u043b\u044f \u0438\u0441\u043f\u043e\u043b\u044c\u0437\u043e\u0432\u0430\u043d\u0438\u044f \u0432\u0441\u0435\u0433\u043e \u0434\u0430\u0442\u0430\u0441\u0435\u0442\u0430 \u043d\u0435\u043e\u0431\u0445\u043e\u0434\u0438\u043c\u043e ~48 \u0413\u0431 \u043e\u043f\u0435\u0440\u0430\u0442\u0438\u0432\u043d\u043e\u0439 \u043f\u0430\u043c\u044f\u0442\u0438,\u043f\u043e\u044d\u0442\u043e\u043c\u0443 \u043c\u043d\u0435 \u043f\u0440\u0438\u0434\u0435\u0442\u0441\u044f \u043e\u0433\u0440\u0430\u043d\u0438\u0447\u0438\u0442\u044c\u0441\u044f \u043f\u0440\u0438\u043c\u0435\u0440\u043d\u043e 1/4.\n",
      "data = data.sample(n=240000, random_state=42)\n",
      "data.hist(bins=10,column='target')\n",
      "#\u0414\u0430\u0442\u0430\u0441\u0435\u0442 \u043e\u0442\u0431\u0430\u043b\u0430\u043d\u0441\u0438\u0440\u043e\u0432\u0430\u043d \u0438 \u043f\u043e\u043c\u0435\u0449\u0430\u0435\u0442\u0441\u044f \u0432 \u043e\u043f\u0435\u0440\u0430\u0442\u0438\u0432\u043d\u0443\u0431 \u043f\u0430\u043c\u044f\u0442\u044c,\u0442\u0435\u043f\u0435\u0440\u044c \u043c\u043e\u0436\u043d\u043e \u043f\u0440\u0438\u0441\u0442\u0443\u043f\u0430\u0442\u044c \u043a \u0430\u043d\u0430\u043b\u0438\u0437\u0443."
     ],
     "language": "python",
     "metadata": {
      "tags": []
     },
     "outputs": [
      {
       "output_type": "pyout",
       "prompt_number": 4,
       "text": [
        "array([[<matplotlib.axes._subplots.AxesSubplot object at 0x7f09d0082e90>]],\n",
        "      dtype=object)"
       ]
      },
      {
       "output_type": "display_data",
       "png": "[encoded data removed]",
       "text": [
        "<Figure size 432x288 with 1 Axes>"
       ]
      }
     ],
     "prompt_number": 4
    },
    {
     "cell_type": "code",
     "collapsed": false,
     "input": [
      "#\u042f \u0431\u0443\u0434\u0443 \u0438\u0441\u043f\u043e\u043b\u044c\u0437\u043e\u0432\u0430\u0442\u044c \u0441\u043e\u0447\u0435\u0442\u0430\u043d\u0438\u0435 \u0432\u0435\u043a\u0442\u043e\u0440\u0438\u0437\u0430\u0446\u0438\u0438 \u043f\u043e\u0434\u0441\u0447\u0435\u0442\u043e\u043c \u0438 \u0440\u0435\u0433\u0440\u0435\u0441\u0441\u0438\u0438 \u043d\u0430 \u0434\u0435\u0440\u0435\u0432\u044c\u044f\u0445 \u0440\u0435\u0448\u0435\u043d\u0438\u0439.\n",
      "#\u0412\u0435\u043a\u0442\u043e\u0440\u0438\u0437\u0430\u0446\u0438\u044f \u043f\u043e\u0434\u0441\u0447\u0435\u0442\u043e\u043c \u0437\u0430\u043a\u043e\u0434\u0438\u0440\u0443\u0435\u0442 \u0442\u0435\u043a\u0441\u0442 \u043a\u043e\u043c\u043c\u0435\u043d\u0442\u0430\u0440\u0438\u044f \u0432 \u0443\u043d\u0438\u0442\u0430\u0440\u043d\u043e\u0435 \u043f\u0440\u0435\u0434\u0441\u0442\u0430\u0432\u043b\u0435\u043d\u0438\u0435,\u0433\u0434\u0435\n",
      "#1 \u0438\u043b\u0438 0 \u043d\u0430 k-\u0439 \u043f\u043e\u0437\u0438\u0446\u0438\u0438 \u043e\u0431\u043e\u0437\u043d\u0430\u0447\u0430\u044e\u0442 \u043d\u0430\u043b\u0438\u0447\u0438\u0435 \u0438\u043b\u0438 \u043e\u0442\u0441\u0443\u0442\u0441\u0442\u0432\u0438\u0435 k-\u0433\u043e \u0441\u043b\u043e\u0432\u0430 \u0438\u0437 \u0441\u043b\u043e\u0432\u0430\u0440\u044f \u0432 \u043a\u043e\u043c\u043c\u0435\u043d\u0442\u0430\u0440\u0438\u0438.\n",
      "#\u0420\u0430\u0437\u043c\u0435\u0440 \u0441\u043b\u043e\u0432\u0430\u0440\u044f 5000 \u043f\u043e\u0434\u043e\u0431\u0440\u0430\u043d \u044d\u043c\u043f\u0438\u0440\u0438\u0447\u0435\u0441\u043a\u0438.\n",
      "vectorizer = CountVectorizer(analyzer = \"word\",tokenizer = None,preprocessor = None,stop_words = None,max_features = 500)\n",
      "#\u041e\u0431\u0443\u0447\u0430\u0435\u043c \u043d\u0430\u0448 \u0432\u0435\u043a\u0442\u043e\u0440\u0438\u0437\u0430\u0442\u043e\u0440.\n",
      "train_data_features = vectorizer.fit_transform(data['comment_text'])\n",
      "#CountVectorizer \u0432\u043e\u0437\u0432\u0440\u0430\u0449\u0430\u0435\u0442 \u0440\u0430\u0437\u0440\u0435\u0436\u0435\u043d\u043d\u044b\u0435 \u043c\u0430\u0442\u0440\u0438\u0446\u044b,\u043d\u043e daal \u043d\u0435 \u043c\u043e\u0436\u0435\u0442 \u0438\u0445 \u043e\u0431\u0440\u0430\u0431\u0430\u0442\u044b\u0432\u0430\u0442\u044c,\u043f\u043e\u044d\u0442\u043e\u043c\u0443 \u043f\u0440\u0435\u043e\u0431\u0440\u0430\u0437\u0443\u0435\u043c \u0438\u0445 \u0432 \u043c\u0430\u0441\u0441\u0438\u0432.\n",
      "#train_data_features = train_data_features.toarray()\n",
      "#\u0420\u0430\u0437\u0434\u0435\u0438\u043c \u043d\u0430\u0448 \u0434\u0430\u0442\u0430\u0441\u0435\u0442 \u043d\u0430 \u043e\u0431\u0443\u0447\u0430\u044e\u0449\u0443\u044e \u0438 \u0442\u0435\u0441\u0442\u043e\u0432\u0443\u044e \u0432\u044b\u0431\u043e\u0440\u043a\u0438.\n",
      "#train_features, test_features, train_labels, test_labels = train_test_split(train_data_features, data['target'], test_size = 0.25, random_state = 42)"
     ],
     "language": "python",
     "metadata": {},
     "outputs": [],
     "prompt_number": 5
    },
    {
     "cell_type": "code",
     "collapsed": false,
     "input": [
      "train_features, test_features, train_labels, test_labels = train_test_split(train_data_features, data['target'], test_size = 0.25, random_state = 42)\n",
      "from sklearn.ensemble import RandomForestRegressor\n",
      "rf = RandomForestRegressor(n_estimators = 12, random_state = 42, verbose = 2, n_jobs = -1, max_depth = 30)\n",
      "start = time.time()\n",
      "rf.fit(train_features, train_labels)\n",
      "stop = time.time()\n",
      "fit_time = stop - start\n",
      "print('sklearn sparse time: ',fit_time)\n",
      "predictions = rf.predict(test_features)\n",
      "errors = abs(predictions - test_labels)\n",
      "error = round(np.mean(errors), 2)\n",
      "print('sklearn sparse error ',error)\n",
      "train_features = None\n",
      "test_features = None \n",
      "train_labels = None\n",
      "test_labels = None\n",
      "rf = None\n",
      "errors = None\n",
      "predictions = None\n",
      "error = None"
     ],
     "language": "python",
     "metadata": {},
     "outputs": [
      {
       "output_type": "stream",
       "stream": "stderr",
       "text": [
        "[Parallel(n_jobs=-1)]: Using backend ThreadingBackend with 12 concurrent workers.\n"
       ]
      },
      {
       "output_type": "stream",
       "stream": "stdout",
       "text": [
        "building tree 1 of 12\n",
        "building tree 2 of 12building tree 3 of 12\n",
        "building tree 4 of 12\n",
        "\n",
        "building tree 5 of 12\n",
        "building tree 6 of 12\n",
        "building tree 7 of 12\n",
        "building tree 8 of 12\n",
        "building tree 9 of 12\n",
        "building tree 10 of 12\n",
        "building tree 11 of 12\n",
        "building tree 12 of 12\n"
       ]
      },
      {
       "output_type": "stream",
       "stream": "stderr",
       "text": [
        "[Parallel(n_jobs=-1)]: Done   3 out of  12 | elapsed:  4.3min remaining: 12.8min\n"
       ]
      },
      {
       "output_type": "stream",
       "stream": "stderr",
       "text": [
        "[Parallel(n_jobs=-1)]: Done  10 out of  12 | elapsed:  4.3min remaining:   52.0s\n"
       ]
      },
      {
       "output_type": "stream",
       "stream": "stdout",
       "text": [
        "sklearn sparse time:  260.8024034500122\n",
        "sklearn sparse error  0.17\n"
       ]
      },
      {
       "output_type": "stream",
       "stream": "stderr",
       "text": [
        "[Parallel(n_jobs=-1)]: Done  12 out of  12 | elapsed:  4.3min finished\n",
        "[Parallel(n_jobs=12)]: Using backend ThreadingBackend with 12 concurrent workers.\n",
        "[Parallel(n_jobs=12)]: Done   3 out of  12 | elapsed:    0.0s remaining:    0.1s\n",
        "[Parallel(n_jobs=12)]: Done  10 out of  12 | elapsed:    0.0s remaining:    0.0s\n",
        "[Parallel(n_jobs=12)]: Done  12 out of  12 | elapsed:    0.0s finished\n"
       ]
      }
     ],
     "prompt_number": 6
    },
    {
     "cell_type": "code",
     "collapsed": false,
     "input": [
      "#CountVectorizer \u0432\u043e\u0437\u0432\u0440\u0430\u0449\u0430\u0435\u0442 \u0440\u0430\u0437\u0440\u0435\u0436\u0435\u043d\u043d\u044b\u0435 \u043c\u0430\u0442\u0440\u0438\u0446\u044b,\u043d\u043e daal \u043d\u0435 \u043c\u043e\u0436\u0435\u0442 \u0438\u0445 \u043e\u0431\u0440\u0430\u0431\u0430\u0442\u044b\u0432\u0430\u0442\u044c,\u043f\u043e\u044d\u0442\u043e\u043c\u0443 \u043f\u0440\u0435\u043e\u0431\u0440\u0430\u0437\u0443\u0435\u043c \u0438\u0445 \u0432 \u043c\u0430\u0441\u0441\u0438\u0432.\n",
      "train_data_features = train_data_features.toarray()\n",
      "#\u0420\u0430\u0437\u0434\u0435\u0438\u043c \u043d\u0430\u0448 \u0434\u0430\u0442\u0430\u0441\u0435\u0442 \u043d\u0430 \u043e\u0431\u0443\u0447\u0430\u044e\u0449\u0443\u044e \u0438 \u0442\u0435\u0441\u0442\u043e\u0432\u0443\u044e \u0432\u044b\u0431\u043e\u0440\u043a\u0438.\n",
      "train_features, test_features, train_labels, test_labels = train_test_split(train_data_features, data['target'], test_size = 0.25, random_state = 42)"
     ],
     "language": "python",
     "metadata": {},
     "outputs": [],
     "prompt_number": 7
    },
    {
     "cell_type": "code",
     "collapsed": false,
     "input": [
      "#\u041e\u0441\u0432\u043e\u0431\u043e\u0434\u0438\u043c \u043f\u0430\u043c\u044f\u0442\u044c.\n",
      "vectorizer = None\n",
      "train_data_features = None\n",
      "data = None"
     ],
     "language": "python",
     "metadata": {},
     "outputs": [],
     "prompt_number": 8
    },
    {
     "cell_type": "code",
     "collapsed": false,
     "input": [
      "#\u0424\u0443\u043d\u043a\u0446\u0438\u044f,\u0437\u0430\u043f\u0443\u0441\u043a\u0430\u044e\u0449\u0430\u044f \u043e\u0431\u0443\u0447\u0435\u043d\u0438\u0435 \u0441\u043b\u0443\u0447\u0430\u0439\u043d\u043e\u0433\u043e \u043b\u0435\u0441\u0430.\n",
      "#\u0423\u0432\u0435\u043b\u0438\u0447\u0435\u043d\u0438\u0435 \u0447\u0438\u0441\u043b\u0430 \u0434\u0435\u0440\u0435\u0432\u044c\u0435\u0432, \u0440\u0430\u0432\u043d\u043e \u043a\u0430\u043a \u0438 \u0443\u0432\u0435\u043b\u0438\u0447\u0435\u043d\u0438\u0435 \u0433\u043b\u0443\u0431\u0438\u043d\u044b \u0434\u0435\u0440\u0435\u0432\u0430 \u043d\u0435 \u043f\u0440\u0438\u0432\u043e\u0434\u0438\u0442 \u043a \u0441\u0443\u0449\u0435\u0441\u0442\u0432\u0435\u043d\u043d\u043e\u043c\u0443 \u0443\u043b\u0443\u0447\u0448\u0435\u043d\u0438\u044e \u0442\u043e\u0447\u043d\u043e\u0441\u0442\u0438,\u043d\u043e \u0437\u0430\u043c\u0435\u0442\u043d\u043e \u0443\u0432\u0435\u043b\u0438\u0447\u0438\u0432\u0430\u0435\u0442 \u0432\u0440\u0435\u043c\u044f \u043e\u0431\u0443\u0447\u0435\u043d\u0438\u044f.\n",
      "#\u041f\u043e\u044d\u0442\u043e\u043c\u0443 \u044f \u043e\u0441\u0442\u0430\u0432\u0438\u043b 12 \u0438 30 \u0441\u043e\u043e\u0442\u0432\u0435\u0442\u0441\u0432\u0435\u043d\u043d\u043e.\n",
      "def fit(train_features, train_labels):\n",
      "    rf = RandomForestRegressor(n_estimators = 12, random_state = 42, verbose = 2, n_jobs = -1, max_depth = 30)\n",
      "    start = time.time()\n",
      "    rf.fit(train_features, train_labels)\n",
      "    stop = time.time()\n",
      "    fit_time = stop - start\n",
      "    return rf, fit_time\n",
      "\n",
      "#\u0418 \u0444\u0443\u043d\u043a\u0446\u0438\u044f,\u0441\u0447\u0438\u0442\u0430\u044e\u0449\u0430\u044f \u043e\u0448\u0438\u0431\u043a\u0443 \u043d\u0430 \u0442\u0435\u0441\u0442\u043e\u0432\u043e\u0439 \u0432\u044b\u0431\u043e\u0440\u043a\u0435.\n",
      "def evaluate(test_features, test_labels, rf):\n",
      "    predictions = rf.predict(test_features)\n",
      "    errors = abs(predictions - test_labels)\n",
      "    error = round(np.mean(errors), 2)\n",
      "    return error"
     ],
     "language": "python",
     "metadata": {},
     "outputs": [],
     "prompt_number": 9
    },
    {
     "cell_type": "code",
     "collapsed": false,
     "input": [
      "#\u041e\u0431\u0443\u0447\u0430\u0435\u043c \u0441\u0442\u0430\u043d\u0434\u0430\u0440\u0442\u043d\u044b\u0439 RandomForestRegressor \u0438\u0437 sklearn \u0438 \u0441\u0447\u0438\u0442\u0430\u0435\u043c \u043e\u0448\u0438\u0431\u043a\u0443 \u043d\u0430 \u0442\u0435\u0441\u0442\u043e\u0432\u043e\u0439 \u0432\u044b\u0431\u043e\u0440\u043a\u0435.\n",
      "from sklearn.ensemble import RandomForestRegressor\n",
      "rf, sklearn_fit_time = fit(train_features, train_labels)\n",
      "sklearn_error = evaluate(test_features, test_labels, rf)\n",
      "print('sklearn_fit_time: ',sklearn_fit_time)\n",
      "print('sklearn_error: ',sklearn_error)"
     ],
     "language": "python",
     "metadata": {},
     "outputs": [
      {
       "output_type": "stream",
       "stream": "stderr",
       "text": [
        "[Parallel(n_jobs=-1)]: Using backend ThreadingBackend with 12 concurrent workers.\n"
       ]
      },
      {
       "output_type": "stream",
       "stream": "stdout",
       "text": [
        "building tree 1 of 12\n",
        "building tree 2 of 12\n",
        "building tree 3 of 12\n",
        "building tree 4 of 12\n",
        "building tree 5 of 12\n",
        "building tree 6 of 12\n",
        "building tree 7 of 12\n",
        "building tree 8 of 12\n",
        "building tree 9 of 12\n",
        "building tree 10 of 12building tree 11 of 12\n",
        "\n",
        "building tree 12 of 12\n"
       ]
      },
      {
       "output_type": "stream",
       "stream": "stderr",
       "text": [
        "[Parallel(n_jobs=-1)]: Done   3 out of  12 | elapsed:  1.1min remaining:  3.3min\n"
       ]
      },
      {
       "output_type": "stream",
       "stream": "stderr",
       "text": [
        "[Parallel(n_jobs=-1)]: Done  10 out of  12 | elapsed:  1.1min remaining:   13.2s\n"
       ]
      },
      {
       "output_type": "stream",
       "stream": "stderr",
       "text": [
        "[Parallel(n_jobs=-1)]: Done  12 out of  12 | elapsed:  1.1min finished\n",
        "[Parallel(n_jobs=12)]: Using backend ThreadingBackend with 12 concurrent workers.\n",
        "[Parallel(n_jobs=12)]: Done   3 out of  12 | elapsed:    0.0s remaining:    0.1s\n",
        "[Parallel(n_jobs=12)]: Done  10 out of  12 | elapsed:    0.0s remaining:    0.0s\n",
        "[Parallel(n_jobs=12)]: Done  12 out of  12 | elapsed:    0.0s finished\n"
       ]
      },
      {
       "output_type": "stream",
       "stream": "stdout",
       "text": [
        "sklearn_fit_time:  66.70426487922668\n",
        "sklearn_error:  0.17\n"
       ]
      }
     ],
     "prompt_number": 10
    },
    {
     "cell_type": "code",
     "collapsed": false,
     "input": [
      "#\u041f\u043e\u0432\u0442\u043e\u0440\u044f\u0435\u043c \u0442\u043e\u0436\u0435 \u0441\u0430\u043c\u043e\u0435 \u0434\u043b\u044f daal.\n",
      "from daal4py.sklearn.ensemble import RandomForestRegressor\n",
      "rf, daal_fit_time = fit(train_features, train_labels)\n",
      "daal_error = evaluate(test_features, test_labels, rf)\n",
      "print('daal_fit_time: ',daal_fit_time)\n",
      "print('daal_error: ',daal_error)"
     ],
     "language": "python",
     "metadata": {},
     "outputs": [
      {
       "output_type": "stream",
       "stream": "stderr",
       "text": [
        "/opt/conda/lib/python3.7/site-packages/daal4py/sklearn/ensemble/decision_forest.py:322: UserWarning: RandomForestRegressor ignores non-default settings of n_jobs\n",
        "  warnings.warn(_class_name + ' ignores non-default settings of n_jobs')\n",
        "/opt/conda/lib/python3.7/site-packages/daal4py/sklearn/ensemble/decision_forest.py:324: UserWarning: RandomForestRegressor ignores non-default settings of verbose\n",
        "  warnings.warn(_class_name + ' ignores non-default settings of verbose')\n"
       ]
      },
      {
       "output_type": "stream",
       "stream": "stdout",
       "text": [
        "daal_fit_time:  132.96834349632263\n",
        "daal_error:  0.17\n"
       ]
      }
     ],
     "prompt_number": 11
    },
    {
     "cell_type": "code",
     "collapsed": false,
     "input": [
      "#\u0412\u0440\u0435\u043c\u044f \u043e\u0431\u0443\u0447\u0435\u043d\u0438\u044f \u043f\u0440\u0438 \u0438\u0441\u043f\u043e\u043b\u044c\u0437\u043e\u0432\u0430\u043d\u0438\u0438 daal \u0432 \u043f\u0440\u0438\u043c\u0435\u0440\u043d\u043e 2.6 \u0440\u0430\u0437\u0430 \u043c\u0435\u043d\u044c\u0448\u0435 \u043f\u0440\u0438 \u0442\u043e\u0439 \u0436\u0435 \u0442\u043e\u0447\u043d\u043e\u0441\u0442\u0438.\n",
      "print('acceleration: ',sklearn_fit_time / daal_fit_time)"
     ],
     "language": "python",
     "metadata": {},
     "outputs": [
      {
       "output_type": "stream",
       "stream": "stdout",
       "text": [
        "acceleration:  0.5016552295477116\n"
       ]
      }
     ],
     "prompt_number": 12
    }
   ],
   "metadata": {}
  }
 ]
}
