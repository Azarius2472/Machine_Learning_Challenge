{
 "cells": [
  {
   "cell_type": "code",
   "execution_count": 1,
   "metadata": {},
   "outputs": [],
   "source": [
    "# Igor Lipatov\n",
    "# osh1308@gmail.com\n",
    "# competition:\n",
    "# https://www.kaggle.com/c/jigsaw-unintended-bias-in-toxicity-classification\n",
    "# my configuration:\n",
    "# CPU: Intel Xeon e5 1650V1\n",
    "# RAM: 16Gb\n",
    "# scikit-learn     0.22.1\n",
    "# daal4py          2020.1\n",
    "# docker image intelpython/intelpython3_full"
   ]
  },
  {
   "cell_type": "code",
   "execution_count": 2,
   "metadata": {},
   "outputs": [],
   "source": [
    "import pandas as pd\n",
    "from sklearn.model_selection import train_test_split\n",
    "from sklearn.feature_extraction.text import CountVectorizer\n",
    "import time\n",
    "import numpy as np\n",
    "import sys"
   ]
  },
  {
   "cell_type": "code",
   "execution_count": 3,
   "metadata": {
    "tags": []
   },
   "outputs": [
    {
     "data": {
      "text/plain": [
       "array([[<matplotlib.axes._subplots.AxesSubplot object at 0x7f3e3ac4e410>]],\n",
       "      dtype=object)"
      ]
     },
     "execution_count": 3,
     "metadata": {},
     "output_type": "execute_result"
    },
    {
     "data": {
      "image/png": "[encoded data removed]",
      "text/plain": [
       "<Figure size 432x288 with 1 Axes>"
      ]
     },
     "metadata": {},
     "output_type": "display_data"
    }
   ],
   "source": [
    "#В данном соревновании необходимо построить модель для оценки токсичности комментария.\n",
    "#Это можно сделать либо только с помощью основной метки target ∈[0,1],либо дополнительно с применением вспомогательных identety_attack,insult и т.д.\n",
    "#Я буду использовать только основную метку target.\n",
    "\n",
    "#Читаем данные при помощи pandas в dataframe.\n",
    "data = pd.read_csv('./data/train.csv')\n",
    "data.head()\n",
    "data.hist(bins=10,column='target')"
   ]
  },
  {
   "cell_type": "code",
   "execution_count": 4,
   "metadata": {
    "tags": []
   },
   "outputs": [
    {
     "data": {
      "text/plain": [
       "array([[<matplotlib.axes._subplots.AxesSubplot object at 0x7f3e3a140290>]],\n",
       "      dtype=object)"
      ]
     },
     "execution_count": 4,
     "metadata": {},
     "output_type": "execute_result"
    },
    {
     "data": {
      "image/png": "[encoded data removed]",
      "text/plain": [
       "<Figure size 432x288 with 1 Axes>"
      ]
     },
     "metadata": {},
     "output_type": "display_data"
    }
   ],
   "source": [
    "#Датасет слишком несбалансирован,очень много комментариев с меткой <= 0.1.\n",
    "#Сократим число таких комментариев.\n",
    "#Выделим комментарии с меткой <= 0.1.\n",
    "zeros = data[data.target <= 0.1]\n",
    "#Выделим все остальные комментарии.\n",
    "nonzeros = data[data.target > 0.1]\n",
    "#Извлечем подвыборку из комментариев с низким значением метки.\n",
    "zeros = zeros.sample(n=120000, random_state=42)\n",
    "#И соберем наш dataframe обратно.\n",
    "data = pd.concat([zeros,nonzeros])\n",
    "zeros = None\n",
    "nonzeros = None\n",
    "data.hist(bins=10,column='target')\n",
    "#Датасет отбалансирован,теперь можно приступать к анализу."
   ]
  },
  {
   "cell_type": "code",
   "execution_count": 5,
   "metadata": {},
   "outputs": [],
   "source": [
    "#Я буду использовать сочетание векторизации подсчетом и регрессии на деревьях решений.\n",
    "#Векторизация подсчетом закодирует текст комментария в унитарное представление,где\n",
    "#1 или 0 на k-й позиции обозначают наличие или отсутствие k-го слова из словаря в комментарии.\n",
    "#Размер словаря 350 подобран эмпирически.\n",
    "vectorizer = CountVectorizer(analyzer = \"word\",tokenizer = None,preprocessor = None,stop_words = None,max_features = 350)\n",
    "#Обучаем наш векторизатор.\n",
    "train_data_features = vectorizer.fit_transform(data['comment_text'])\n",
    "#Раздеим наш датасет на обучающую и тестовую выборки.\n",
    "train_features, test_features, train_labels, test_labels = train_test_split(train_data_features, data['target'], test_size = 0.25, random_state = 42)"
   ]
  },
  {
   "cell_type": "code",
   "execution_count": 6,
   "metadata": {},
   "outputs": [],
   "source": [
    "#Функция,запускающая обучение случайного леса.\n",
    "#Увеличение числа деревьев, равно как и увеличение глубины дерева не приводит к существенному улучшению точности,но заметно увеличивает время обучения.\n",
    "#Поэтому я оставил 12 и 30 соответсвенно.\n",
    "def fit(train_features, train_labels):\n",
    "    rf = RandomForestRegressor(n_estimators = 12, random_state = 42, verbose = 2, n_jobs = -1, max_depth = 30)\n",
    "    start = time.time()\n",
    "    rf.fit(train_features, train_labels)\n",
    "    stop = time.time()\n",
    "    fit_time = stop - start\n",
    "    return rf, fit_time\n",
    "\n",
    "#И функция,считающая ошибку на тестовой выборке.\n",
    "def evaluate(test_features, test_labels, rf):\n",
    "    predictions = rf.predict(test_features)\n",
    "    errors = abs(predictions - test_labels)\n",
    "    error = round(np.mean(errors), 2)\n",
    "    return error"
   ]
  },
  {
   "cell_type": "code",
   "execution_count": 7,
   "metadata": {},
   "outputs": [
    {
     "name": "stderr",
     "output_type": "stream",
     "text": [
      "[Parallel(n_jobs=-1)]: Using backend ThreadingBackend with 12 concurrent workers.\n"
     ]
    },
    {
     "name": "stdout",
     "output_type": "stream",
     "text": [
      "building tree 1 of 12\n",
      "building tree 2 of 12building tree 3 of 12\n",
      "building tree 4 of 12\n",
      "building tree 5 of 12\n",
      "building tree 6 of 12\n",
      "building tree 7 of 12\n",
      "building tree 8 of 12\n",
      "\n",
      "building tree 9 of 12\n",
      "building tree 10 of 12\n",
      "building tree 11 of 12\n",
      "building tree 12 of 12\n"
     ]
    },
    {
     "name": "stderr",
     "output_type": "stream",
     "text": [
      "[Parallel(n_jobs=-1)]: Done   3 out of  12 | elapsed: 35.5min remaining: 106.5min\n",
      "[Parallel(n_jobs=-1)]: Done  10 out of  12 | elapsed: 35.9min remaining:  7.2min\n",
      "[Parallel(n_jobs=-1)]: Done  12 out of  12 | elapsed: 35.9min finished\n",
      "[Parallel(n_jobs=12)]: Using backend ThreadingBackend with 12 concurrent workers.\n"
     ]
    },
    {
     "name": "stdout",
     "output_type": "stream",
     "text": [
      "sklearn_fit_time:  2154.1552543640137\n",
      "sklearn_error:  0.17\n"
     ]
    },
    {
     "name": "stderr",
     "output_type": "stream",
     "text": [
      "[Parallel(n_jobs=12)]: Done   3 out of  12 | elapsed:    0.1s remaining:    0.2s\n",
      "[Parallel(n_jobs=12)]: Done  10 out of  12 | elapsed:    0.1s remaining:    0.0s\n",
      "[Parallel(n_jobs=12)]: Done  12 out of  12 | elapsed:    0.1s finished\n"
     ]
    }
   ],
   "source": [
    "#Обучим стандартный RandomForestRegressor из sklearn и посчитаем ошибку на тестовой выборке.\n",
    "from sklearn.ensemble import RandomForestRegressor\n",
    "rf, sklearn_fit_time = fit(train_features, train_labels)\n",
    "sklearn_error = evaluate(test_features, test_labels, rf)\n",
    "print('sklearn_fit_time: ',sklearn_fit_time)\n",
    "print('sklearn_error: ',sklearn_error)"
   ]
  },
  {
   "cell_type": "code",
   "execution_count": 8,
   "metadata": {},
   "outputs": [],
   "source": [
    "#Освободим память.\n",
    "train_features = None\n",
    "test_features = None \n",
    "train_labels = None\n",
    "test_labels = None\n",
    "rf = None\n",
    "errors = None\n",
    "predictions = None\n",
    "error = None"
   ]
  },
  {
   "cell_type": "code",
   "execution_count": 9,
   "metadata": {},
   "outputs": [],
   "source": [
    "#CountVectorizer возвращает разреженные матрицы,но daal не может их обрабатывать,поэтому преобразуем их в массив.\n",
    "#Также не забудем,про время преобразования разреженных матриц в массивы.\n",
    "start = time.time()\n",
    "train_data_features = train_data_features.toarray()\n",
    "stop = time.time()\n",
    "transform_time = stop - start\n",
    "#Раздеим наш датасет на обучающую и тестовую выборки.\n",
    "train_features, test_features, train_labels, test_labels = train_test_split(train_data_features, data['target'], test_size = 0.25, random_state = 42)"
   ]
  },
  {
   "cell_type": "code",
   "execution_count": 10,
   "metadata": {},
   "outputs": [],
   "source": [
    "#Освободим память.\n",
    "vectorizer = None\n",
    "train_data_features = None\n",
    "data = None"
   ]
  },
  {
   "cell_type": "code",
   "execution_count": 11,
   "metadata": {},
   "outputs": [
    {
     "name": "stderr",
     "output_type": "stream",
     "text": [
      "/opt/conda/lib/python3.7/site-packages/daal4py/sklearn/ensemble/decision_forest.py:322: UserWarning: RandomForestRegressor ignores non-default settings of n_jobs\n",
      "  warnings.warn(_class_name + ' ignores non-default settings of n_jobs')\n",
      "/opt/conda/lib/python3.7/site-packages/daal4py/sklearn/ensemble/decision_forest.py:324: UserWarning: RandomForestRegressor ignores non-default settings of verbose\n",
      "  warnings.warn(_class_name + ' ignores non-default settings of verbose')\n"
     ]
    },
    {
     "name": "stdout",
     "output_type": "stream",
     "text": [
      "daal_fit_time:  374.81509137153625\n",
      "daal_error:  0.17\n"
     ]
    }
   ],
   "source": [
    "#Обучим RandomForestRegressor при помощи daal и посчитаем ошибку на тестовой выборке.\n",
    "from daal4py.sklearn.ensemble import RandomForestRegressor\n",
    "rf, daal_fit_time = fit(train_features, train_labels)\n",
    "#Учтем время преобразования исходных данных.\n",
    "daal_fit_time += transform_time\n",
    "daal_error = evaluate(test_features, test_labels, rf)\n",
    "print('daal_fit_time: ',daal_fit_time)\n",
    "print('daal_error: ',daal_error)"
   ]
  },
  {
   "cell_type": "code",
   "execution_count": 12,
   "metadata": {},
   "outputs": [
    {
     "name": "stdout",
     "output_type": "stream",
     "text": [
      "acceleration:  5.747247920251703\n"
     ]
    }
   ],
   "source": [
    "#При помощи внешнего профайлера измерим потребление памяти\n",
    "#python -m memory_profiler \n",
    "#Mem usage     Increment    Line Contents\n",
    "#2005.461 MiB  212.344 MiB  train_data_features = vectorizer.fit_transform(data['comment_text'])\n",
    "#3559.773 MiB 1554.312 MiB  train_data_features = train_data_features.toarray()\n",
    "#Потребление памяти при использовании daal возросло примерно в 7.3 раза.\n",
    "#При этом время обучения уменьшилось примерно в 5.8 раз при той же точности.\n",
    "print('acceleration: ',sklearn_fit_time / daal_fit_time)"
   ]
  }
 ],
 "metadata": {
  "kernelspec": {
   "display_name": "Python 3",
   "language": "python",
   "name": "python3"
  },
  "language_info": {
   "codemirror_mode": {
    "name": "ipython",
    "version": 3
   },
   "file_extension": ".py",
   "mimetype": "text/x-python",
   "name": "python",
   "nbconvert_exporter": "python",
   "pygments_lexer": "ipython3",
   "version": "3.8.5"
  }
 },
 "nbformat": 4,
 "nbformat_minor": 1
}
